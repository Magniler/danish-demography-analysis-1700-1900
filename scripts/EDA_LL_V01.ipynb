{
 "cells": [
  {
   "cell_type": "markdown",
   "metadata": {},
   "source": [
    "# Exploriatory Data analysis for Link Lives data (V1.2) for Magnus' Masters Thesis (MMT)\n",
    "The purpuse of this analysis is to:\n",
    "- Get a felling for the shape and size of the different LL datasets\n",
    "- Understand how the data is structured\n",
    "- Try to calculate average age of marriage for women"
   ]
  },
  {
   "cell_type": "markdown",
   "metadata": {},
   "source": [
    "## Load in the Data"
   ]
  },
  {
   "cell_type": "code",
   "execution_count": 1,
   "metadata": {},
   "outputs": [],
   "source": [
    "# Packages\n",
    "from pathlib import Path\n",
    "import pandas as pd\n",
    "\n",
    "#Future proofing of the way we use pandas\n",
    "pd.options.mode.copy_on_write = True\n",
    "\n",
    "# Paths to data\n",
    "ll_data_dir = Path.cwd().parent / 'data' / 'link_lives'\n",
    "ll_data_raw_dir = Path.cwd().parent / 'data' / 'link_lives_raw_data'\n",
    "life_course_data = ll_data_dir / 'life-courses' / 'life_courses.csv'\n",
    "link_data = ll_data_dir / 'links' / 'links.csv'\n",
    "marital_status_data = ll_data_dir / 'SCs' / 'SC_marital_status_20210818.csv'\n",
    "sex_status_data = ll_data_dir / 'SCs' / 'SC_sex_20210609.csv'\n"
   ]
  },
  {
   "cell_type": "code",
   "execution_count": 2,
   "metadata": {},
   "outputs": [
    {
     "data": {
      "text/plain": [
       "(3155319, 5)"
      ]
     },
     "execution_count": 2,
     "metadata": {},
     "output_type": "execute_result"
    }
   ],
   "source": [
    "# Try to load in the life courses and understand the data\n",
    "lc_df = pd.read_csv(life_course_data)\n",
    "lc_df.shape"
   ]
  },
  {
   "cell_type": "code",
   "execution_count": 3,
   "metadata": {},
   "outputs": [
    {
     "name": "stderr",
     "output_type": "stream",
     "text": [
      "C:\\Users\\mlind\\AppData\\Local\\Temp\\ipykernel_24240\\2639017560.py:1: DtypeWarning: Columns (7) have mixed types. Specify dtype option on import or set low_memory=False.\n",
      "  links_df = pd.read_csv(link_data)\n"
     ]
    }
   ],
   "source": [
    "links_df = pd.read_csv(link_data)"
   ]
  },
  {
   "cell_type": "code",
   "execution_count": 3,
   "metadata": {},
   "outputs": [
    {
     "data": {
      "text/html": [
       "<div>\n",
       "<style scoped>\n",
       "    .dataframe tbody tr th:only-of-type {\n",
       "        vertical-align: middle;\n",
       "    }\n",
       "\n",
       "    .dataframe tbody tr th {\n",
       "        vertical-align: top;\n",
       "    }\n",
       "\n",
       "    .dataframe thead th {\n",
       "        text-align: right;\n",
       "    }\n",
       "</style>\n",
       "<table border=\"1\" class=\"dataframe\">\n",
       "  <thead>\n",
       "    <tr style=\"text-align: right;\">\n",
       "      <th></th>\n",
       "      <th>life_course_id</th>\n",
       "      <th>pa_ids</th>\n",
       "      <th>source_ids</th>\n",
       "      <th>link_ids</th>\n",
       "      <th>n_sources</th>\n",
       "    </tr>\n",
       "  </thead>\n",
       "  <tbody>\n",
       "    <tr>\n",
       "      <th>0</th>\n",
       "      <td>0</td>\n",
       "      <td>1000000,1010580</td>\n",
       "      <td>4,5</td>\n",
       "      <td>2039770</td>\n",
       "      <td>2</td>\n",
       "    </tr>\n",
       "    <tr>\n",
       "      <th>1</th>\n",
       "      <td>1</td>\n",
       "      <td>1000000,1189983</td>\n",
       "      <td>5,6</td>\n",
       "      <td>1027189</td>\n",
       "      <td>2</td>\n",
       "    </tr>\n",
       "    <tr>\n",
       "      <th>2</th>\n",
       "      <td>2</td>\n",
       "      <td>1000000,1162554</td>\n",
       "      <td>6,7</td>\n",
       "      <td>455311</td>\n",
       "      <td>2</td>\n",
       "    </tr>\n",
       "    <tr>\n",
       "      <th>3</th>\n",
       "      <td>3</td>\n",
       "      <td>1000001,1150676</td>\n",
       "      <td>2,3</td>\n",
       "      <td>2567539</td>\n",
       "      <td>2</td>\n",
       "    </tr>\n",
       "    <tr>\n",
       "      <th>4</th>\n",
       "      <td>4</td>\n",
       "      <td>1000002,707136,731392</td>\n",
       "      <td>3,4,5</td>\n",
       "      <td>2360648,1882979</td>\n",
       "      <td>3</td>\n",
       "    </tr>\n",
       "  </tbody>\n",
       "</table>\n",
       "</div>"
      ],
      "text/plain": [
       "   life_course_id                 pa_ids source_ids         link_ids  \\\n",
       "0               0        1000000,1010580        4,5          2039770   \n",
       "1               1        1000000,1189983        5,6          1027189   \n",
       "2               2        1000000,1162554        6,7           455311   \n",
       "3               3        1000001,1150676        2,3          2567539   \n",
       "4               4  1000002,707136,731392      3,4,5  2360648,1882979   \n",
       "\n",
       "   n_sources  \n",
       "0          2  \n",
       "1          2  \n",
       "2          2  \n",
       "3          2  \n",
       "4          3  "
      ]
     },
     "execution_count": 3,
     "metadata": {},
     "output_type": "execute_result"
    }
   ],
   "source": [
    "lc_df.head()"
   ]
  },
  {
   "cell_type": "code",
   "execution_count": 4,
   "metadata": {},
   "outputs": [
    {
     "data": {
      "text/html": [
       "<div>\n",
       "<style scoped>\n",
       "    .dataframe tbody tr th:only-of-type {\n",
       "        vertical-align: middle;\n",
       "    }\n",
       "\n",
       "    .dataframe tbody tr th {\n",
       "        vertical-align: top;\n",
       "    }\n",
       "\n",
       "    .dataframe thead th {\n",
       "        text-align: right;\n",
       "    }\n",
       "</style>\n",
       "<table border=\"1\" class=\"dataframe\">\n",
       "  <thead>\n",
       "    <tr style=\"text-align: right;\">\n",
       "      <th></th>\n",
       "      <th>link_id</th>\n",
       "      <th>index</th>\n",
       "      <th>source_id1</th>\n",
       "      <th>source_id2</th>\n",
       "      <th>pa_id1</th>\n",
       "      <th>pa_id2</th>\n",
       "      <th>method_id</th>\n",
       "      <th>score</th>\n",
       "      <th>iteration</th>\n",
       "      <th>iteration_inner</th>\n",
       "      <th>duplicates</th>\n",
       "    </tr>\n",
       "  </thead>\n",
       "  <tbody>\n",
       "    <tr>\n",
       "      <th>0</th>\n",
       "      <td>0</td>\n",
       "      <td>0</td>\n",
       "      <td>9</td>\n",
       "      <td>8</td>\n",
       "      <td>5751</td>\n",
       "      <td>287125</td>\n",
       "      <td>0</td>\n",
       "      <td>0.0</td>\n",
       "      <td>0.0</td>\n",
       "      <td>0.0</td>\n",
       "      <td>1</td>\n",
       "    </tr>\n",
       "    <tr>\n",
       "      <th>1</th>\n",
       "      <td>1</td>\n",
       "      <td>72</td>\n",
       "      <td>9</td>\n",
       "      <td>8</td>\n",
       "      <td>98026</td>\n",
       "      <td>281291</td>\n",
       "      <td>0</td>\n",
       "      <td>0.0</td>\n",
       "      <td>0.0</td>\n",
       "      <td>0.0</td>\n",
       "      <td>1</td>\n",
       "    </tr>\n",
       "    <tr>\n",
       "      <th>2</th>\n",
       "      <td>2</td>\n",
       "      <td>170</td>\n",
       "      <td>9</td>\n",
       "      <td>8</td>\n",
       "      <td>62864</td>\n",
       "      <td>167334</td>\n",
       "      <td>0</td>\n",
       "      <td>0.0</td>\n",
       "      <td>0.0</td>\n",
       "      <td>0.0</td>\n",
       "      <td>1</td>\n",
       "    </tr>\n",
       "    <tr>\n",
       "      <th>3</th>\n",
       "      <td>3</td>\n",
       "      <td>537</td>\n",
       "      <td>9</td>\n",
       "      <td>8</td>\n",
       "      <td>68292</td>\n",
       "      <td>261284</td>\n",
       "      <td>0</td>\n",
       "      <td>0.0</td>\n",
       "      <td>0.0</td>\n",
       "      <td>0.0</td>\n",
       "      <td>1</td>\n",
       "    </tr>\n",
       "    <tr>\n",
       "      <th>4</th>\n",
       "      <td>4</td>\n",
       "      <td>565</td>\n",
       "      <td>9</td>\n",
       "      <td>8</td>\n",
       "      <td>80852</td>\n",
       "      <td>173841</td>\n",
       "      <td>0</td>\n",
       "      <td>0.0</td>\n",
       "      <td>0.0</td>\n",
       "      <td>0.0</td>\n",
       "      <td>1</td>\n",
       "    </tr>\n",
       "  </tbody>\n",
       "</table>\n",
       "</div>"
      ],
      "text/plain": [
       "   link_id  index  source_id1  source_id2  pa_id1  pa_id2  method_id score  \\\n",
       "0        0      0           9           8    5751  287125          0   0.0   \n",
       "1        1     72           9           8   98026  281291          0   0.0   \n",
       "2        2    170           9           8   62864  167334          0   0.0   \n",
       "3        3    537           9           8   68292  261284          0   0.0   \n",
       "4        4    565           9           8   80852  173841          0   0.0   \n",
       "\n",
       "   iteration  iteration_inner  duplicates  \n",
       "0        0.0              0.0           1  \n",
       "1        0.0              0.0           1  \n",
       "2        0.0              0.0           1  \n",
       "3        0.0              0.0           1  \n",
       "4        0.0              0.0           1  "
      ]
     },
     "execution_count": 4,
     "metadata": {},
     "output_type": "execute_result"
    }
   ],
   "source": [
    "links_df.head()"
   ]
  },
  {
   "cell_type": "code",
   "execution_count": null,
   "metadata": {},
   "outputs": [],
   "source": [
    "# The links and life courses data is structered such that the .csv files point to the data which is in the _raw_data folder.\n",
    "# The"
   ]
  }
 ],
 "metadata": {
  "kernelspec": {
   "display_name": "Python 3",
   "language": "python",
   "name": "python3"
  },
  "language_info": {
   "codemirror_mode": {
    "name": "ipython",
    "version": 3
   },
   "file_extension": ".py",
   "mimetype": "text/x-python",
   "name": "python",
   "nbconvert_exporter": "python",
   "pygments_lexer": "ipython3",
   "version": "3.11.5"
  }
 },
 "nbformat": 4,
 "nbformat_minor": 2
}
