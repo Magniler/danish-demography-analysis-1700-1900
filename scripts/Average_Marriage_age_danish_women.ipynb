{
 "cells": [
  {
   "cell_type": "markdown",
   "metadata": {},
   "source": [
    "The purpose of this script is to explore the avarage age of marriage for danish women in the data, along with avarage age for first marriage."
   ]
  },
  {
   "cell_type": "code",
   "execution_count": 6,
   "metadata": {},
   "outputs": [],
   "source": [
    "# Load in relevant packages:\n",
    "from pathlib import Path\n",
    "import pandas as pd\n",
    "#Future proofing of the way we use pandas\n",
    "pd.options.mode.copy_on_write = True\n",
    "import numpy as np\n",
    "import matplotlib.pyplot as plt # type: ignore\n",
    "import seaborn as sns # type: ignore\n",
    "import plotly.graph_objs as go\n",
    "\n",
    "from helper_functions import clean_data_age_gender"
   ]
  },
  {
   "cell_type": "code",
   "execution_count": 5,
   "metadata": {},
   "outputs": [],
   "source": [
    "# Prepare data and data paths:\n",
    "census_data_dir = Path.cwd().parent / 'data' / 'census'"
   ]
  },
  {
   "cell_type": "code",
   "execution_count": 4,
   "metadata": {},
   "outputs": [],
   "source": [
    "\n",
    "def get_married_female_age_statistics(df: pd.DataFrame) -> pd.Series:\n",
    "    \"\"\"\n",
    "    Get the average age of women for a given dataframe\n",
    "    \"\"\"\n",
    "    married_women = df[(df['køn'] == 'K') & (df['marital_status'] == 'Gift')]\n",
    "    return married_women['age_full_years'].describe()\n",
    "\n",
    "def get_non_married_female_age_statistics(df: pd.DataFrame) -> pd.Series:\n",
    "    \"\"\"\n",
    "    Get the average age of non married women\n",
    "    \"\"\"\n",
    "    non_married_women = df[(df['køn'] == 'K') & (df['marital_status'] == 'Ugift')]\n",
    "    return non_married_women['age_full_years'].describe()"
   ]
  },
  {
   "cell_type": "code",
   "execution_count": null,
   "metadata": {},
   "outputs": [],
   "source": [
    "# 2: Try to make a kernel plot\n",
    "\n"
   ]
  }
 ],
 "metadata": {
  "kernelspec": {
   "display_name": ".venv",
   "language": "python",
   "name": "python3"
  },
  "language_info": {
   "codemirror_mode": {
    "name": "ipython",
    "version": 3
   },
   "file_extension": ".py",
   "mimetype": "text/x-python",
   "name": "python",
   "nbconvert_exporter": "python",
   "pygments_lexer": "ipython3",
   "version": "3.11.5"
  }
 },
 "nbformat": 4,
 "nbformat_minor": 2
}
